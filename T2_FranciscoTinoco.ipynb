{
 "cells": [
  {
   "cell_type": "markdown",
   "source": [
    "## Git tutorial"
   ],
   "metadata": {
    "collapsed": false
   },
   "id": "2216eb33a865af5e"
  },
  {
   "cell_type": "markdown",
   "source": [],
   "metadata": {
    "collapsed": false
   },
   "id": "583c2051d8a746c1"
  },
  {
   "cell_type": "markdown",
   "source": [
    "En este caso escogí el artículo de amazon, de aws, donde destaca la importancia de MLOps (Machine Learning Operations) en la gestión y despliegue de proyectos de machine learning (ML). MLOps es crucial porque permite manejar de manera sistemática los activos de ML, integrándolos de forma similar a otros activos de software en entornos de integración y entrega continuas (CI/CD).\n",
    "\n",
    "El ciclo de vida de ML comienza con la preparación de datos, seguido del entrenamiento y validación del modelo. A medida que se experimenta con diferentes modelos, se requiere un control de versiones y una administración eficiente de las canalizaciones de ML antes de implementar el modelo en producción. MLOps facilita este proceso al automatizar diversas etapas, lo que garantiza repetibilidad, coherencia y escalabilidad.\n",
    "\n",
    "Los cuatro principios clave de MLOps son:\n",
    "Control de versiones: Seguimiento de cambios en los activos de ML para reproducir resultados y reutilizar versiones anteriores. Automatización: Automatización de etapas en la canalización de ML, como el entrenamiento y la implementación del modelo, para mejorar la eficiencia. Actividades continuas: Ejecución continua de pruebas, integración, entrega, y monitoreo para garantizar un funcionamiento fluido del modelo en producción. Gobernanza de modelos: Administración de sistemas de ML para maximizar eficiencia, seguridad y cumplimiento normativo. MLOps ofrece beneficios significativos, como la reducción del tiempo de comercialización, mejora de la productividad y eficiencia en la implementación de modelos. Además, facilita la colaboración entre científicos de datos e ingenieros, permitiendo un enfoque más estratégico y ágil.\n",
    "\n",
    "Existen tres niveles de implementación de MLOps:\n",
    "Nivel 0: Flujos de trabajo manuales y transiciones gestionadas por científicos de datos. Nivel 1: Automatización de la canalización de ML para entrenamiento continuo y entrega de servicios de predicción. Nivel 2: Experimentación y creación frecuente de modelos nuevos con entrenamiento continuo y actualización rápida en la producción. MLOps se diferencia de DevOps al enfocarse en la automatización del ciclo de vida del ML, integrando principios de DevOps, pero con un enfoque particular en los desafíos del ML, como la recopilación de datos, entrenamiento, validación, implementación y monitoreo de modelos."
   ],
   "metadata": {
    "collapsed": false
   },
   "id": "a39d4c6a9d79252a"
  },
  {
   "cell_type": "markdown",
   "source": [],
   "metadata": {
    "collapsed": false
   },
   "id": "c41f2f1f09e47fc2"
  }
 ],
 "metadata": {
  "kernelspec": {
   "display_name": "Python 3",
   "language": "python",
   "name": "python3"
  },
  "language_info": {
   "codemirror_mode": {
    "name": "ipython",
    "version": 2
   },
   "file_extension": ".py",
   "mimetype": "text/x-python",
   "name": "python",
   "nbconvert_exporter": "python",
   "pygments_lexer": "ipython2",
   "version": "2.7.6"
  }
 },
 "nbformat": 4,
 "nbformat_minor": 5
}
